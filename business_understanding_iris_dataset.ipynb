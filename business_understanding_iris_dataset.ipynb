{
  "nbformat": 4,
  "nbformat_minor": 0,
  "metadata": {
    "colab": {
      "provenance": [],
      "authorship_tag": "ABX9TyNkkDZYNI6ppKIkBEz+cfva",
      "include_colab_link": true
    },
    "kernelspec": {
      "name": "python3",
      "display_name": "Python 3"
    },
    "language_info": {
      "name": "python"
    }
  },
  "cells": [
    {
      "cell_type": "markdown",
      "metadata": {
        "id": "view-in-github",
        "colab_type": "text"
      },
      "source": [
        "<a href=\"https://colab.research.google.com/github/Novandra7/MiniProject_DataMining/blob/main/business_understanding_iris_dataset.ipynb\" target=\"_parent\"><img src=\"https://colab.research.google.com/assets/colab-badge.svg\" alt=\"Open In Colab\"/></a>"
      ]
    },
    {
      "cell_type": "markdown",
      "source": [
        "###Nama : Awang Muhammad Novandra Arissaputra\n",
        "###NIM : 2209116040\n",
        "###Kelas : Sistem Infromasi A 2022\n",
        "\n",
        "\n",
        "---\n",
        "\n",
        "\n",
        "##<b>bussiness understanding\n",
        "\n",
        "1. Business Objective <br>\n",
        "Tujuan utama dari dataset ini adalah untuk mengembangkan model prediktif yang dapat memprediksi spesies bunga iris berdasarkan fitur-fitur morfologisnya. Hal ini dapat bermanfaat bagi para peneliti, petani, atau pecinta tumbuhan untuk mengidentifikasi spesies bunga iris dengan lebih cepat dan akurat\n",
        "1. Assess Situation <br>\n",
        "Situasi bisnis yang mendasari analisa ini adalah industri pertanian botani yang saat ini proses identifikasi dilakukan secara manual oleh ahli botani, yang memerlukan waktu dan tenaga yang cukup besar\n",
        "1. Data Mining Goals <br>\n",
        "Tujuan data mining pada dataset ini adalah mengekstraksi informasi yang berharga dan wawasan yang mendalam tentang hubungan antara fitur-fitur morfologis bunga iris dan spesiesnya\n",
        "1. Project Plan <br>\n",
        "Pada tahap awal, pemahaman data dilakukan dengan mempelajari struktur dataset iris, yang mencakup fitur-fitur seperti sepallength, sepalwidth, petallength, dan petalwidth. Setelah itu, dilanjutkan dengan eksplorasi data untuk mendapatkan pemahaman yang lebih dalam tentang fitur-fitur tersebut melalui visualisasi data. Selanjutnya, tahap pra-pemrosesan data dilakukan dengan memeriksa dan menangani missing value, serta melakukan pemrosesan data lainnya untuk mempersiapkan dataset. Pembagian data dilakukan dengan membagi dataset menjadi set pelatihan dan pengujian untuk melatih dan menguji model machine learning yang dipilih. Setelah model dipilih, dilakukan pelatihan menggunakan set pelatihan dan evaluasi kinerjanya, termasuk menggunakan teknik validasi silang jika diperlukan. Evaluasi model melibatkan perbandingan performa model yang berbeda jika digunakan lebih dari satu model, dengan opsi untuk menyetel parameter untuk meningkatkan kinerja model. Setelah model ditentukan, tahap prediksi dilakukan menggunakan model yang telah ditraining untuk membuat prediksi spesies iris berdasarkan fitur-fitur morfologisnya pada data baru atau data pengujian. Akhirnya, interpretasi hasil dilakukan untuk mengevaluasi efektivitas model dalam memprediksi spesies iris dari fitur-fitur yang diberikan.\n",
        "\n"
      ],
      "metadata": {
        "id": "WVXTXURMu28l"
      }
    }
  ]
}